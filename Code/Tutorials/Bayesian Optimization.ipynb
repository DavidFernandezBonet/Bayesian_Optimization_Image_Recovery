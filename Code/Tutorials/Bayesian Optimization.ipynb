{
 "cells": [
  {
   "cell_type": "markdown",
   "id": "8694ff39",
   "metadata": {},
   "source": [
    "# Hyperparameter Optimization \n",
    "\n",
    "This is intended as a tool to solve the problem:\n",
    "\n",
    "*How to find the best set of hyperparameters in a minimal amount of trials that optimize a performance measure*.\n",
    "\n",
    "It is not unfrequent in experiments that there are many hyperparameters and finding the ones that bring best results is not a trivial task. This tool will suggest a set of hyperparameters that might help find the best performant results in the least amount of trials.\n",
    "\n",
    "The most common strategy is to uniformily select values, also known as grid search. It is also possible to select values randomly, also known as random search. In some cases this is beneficial because it eliminates the \"uniform partition\" bias. However, another strategy is to use previous data (priors) to make informed decisions on the next set of hyperparameters. This can be achieved through Bayesian Optimization.\n",
    "\n",
    "Here you can visualize each strategy. \n",
    "\n",
    "Grid Search, Random Search and Bayesian Optimization respectively:\n",
    "\n",
    "![Grid Search](https://upload.wikimedia.org/wikipedia/commons/b/b6/Hyperparameter_Optimization_using_Grid_Search.svg)\n",
    "![Random Search](https://upload.wikimedia.org/wikipedia/commons/7/74/Hyperparameter_Optimization_using_Random_Search.svg)\n",
    "![Bayesian Optimization](https://upload.wikimedia.org/wikipedia/commons/3/3c/Hyperparameter_Optimization_using_Tree-Structured_Parzen_Estimators.svg)"
   ]
  },
  {
   "cell_type": "markdown",
   "id": "190b61b8",
   "metadata": {},
   "source": [
    "### Import libraries"
   ]
  },
  {
   "cell_type": "code",
   "execution_count": 1,
   "id": "1a2ef1fd",
   "metadata": {},
   "outputs": [],
   "source": [
    "from sklearn.gaussian_process import GaussianProcessRegressor\n",
    "import warnings\n",
    "import pandas as pd\n",
    "import numpy as np\n",
    "import matplotlib.pyplot as plt\n",
    "import scipy"
   ]
  },
  {
   "cell_type": "markdown",
   "id": "325dadd6",
   "metadata": {},
   "source": [
    "### User sets which parameters (x, y ,z in the example) and their domain"
   ]
  },
  {
   "cell_type": "code",
   "execution_count": 2,
   "id": "a4e2515b",
   "metadata": {},
   "outputs": [],
   "source": [
    "def get_random_search_set():\n",
    "    \"\"\"\n",
    "    Returns a set of parameters chosen randomly.\n",
    "    First we need to define the domain space for our parameters!\n",
    "    #TODO: user should define parameter ranges outisde this function\n",
    "    x, y, and z can be properties/attributes that you see in your experiment.\n",
    "    \"\"\"\n",
    "    # Define your domain!\n",
    "    x = np.random.choice(np.arange(4, 256))  # Integers from 4 to 256\n",
    "    y = np.random.choice(np.arange(50,100, 4))   # Integers from 50 to 100 in steps of 4\n",
    "    z = np.random.choice(np.linspace(-1, 1, 100)) # 100 Floats from -1 to 1\n",
    "    # It is possible to add as many variable as wanted\n",
    "    param_set_array = np.array([x, y, z])\n",
    "    return param_set_array"
   ]
  },
  {
   "cell_type": "markdown",
   "id": "6e2d5b0d",
   "metadata": {},
   "source": [
    "### User defines the objective function. It is also possible to not define it and just input a set of observations"
   ]
  },
  {
   "cell_type": "code",
   "execution_count": 3,
   "id": "a3b43eb5",
   "metadata": {},
   "outputs": [],
   "source": [
    "def objective(params):\n",
    "    \"\"\"\n",
    "    Define your objective function.\n",
    "    For example, the below function represents a case where\n",
    "    high \"x\" values are preferable (quadratic growth) than low values for \"y\" and \"z\", and\n",
    "    a low value for \"y\" is 5 times better than the same low value for \"z\".\n",
    "    The function is completely customizable, it can be anything involving selected parameters.\n",
    "    \"\"\"\n",
    "    x, y, z = params[0], params[1], params[2]\n",
    "    return x**2 - 5*y - z"
   ]
  },
  {
   "cell_type": "markdown",
   "id": "3bfa5c9b",
   "metadata": {},
   "source": [
    "### Bayesian Optimization"
   ]
  },
  {
   "cell_type": "code",
   "execution_count": 4,
   "id": "5de101fa",
   "metadata": {},
   "outputs": [],
   "source": [
    "\n",
    "\n",
    "def get_multiple_random_search_set_dict(iterations):\n",
    "    \"\"\"\n",
    "    Get multiple hyperparameter sets, as many as iterations.\n",
    "    \"\"\"\n",
    "    multiple_param_set = [get_random_search_set() for _ in range(iterations)]\n",
    "    param_array = np.vstack(multiple_param_set)  # from tuple of arrays to N x D array, where D is the number of parameters\n",
    "    return param_array\n",
    "# surrogate or approximation for the objective function\n",
    "def surrogate(model, X):\n",
    "    # catch any warning generated when making a prediction\n",
    "    with warnings.catch_warnings():\n",
    "        # ignore generated warnings\n",
    "        warnings.simplefilter(\"ignore\")\n",
    "        return model.predict(X, return_std=True)\n",
    "# acquisition function - rules to decide which hyperparameter set is best\n",
    "def acquisition(X, Xsamples, model):\n",
    "    # update surrogate model\n",
    "    surrogate_output, _ = surrogate(model, X)\n",
    "    best = np.max(surrogate_output)\n",
    "    # calculate mean and stdev via surrogate function given randomly proposed samples\n",
    "    mu, std = surrogate(model, Xsamples)\n",
    "    # calculate the probability of improvement\n",
    "    probs = scipy.stats.norm.cdf((mu - best) / (std+1E-9))  # Add small number to std to avoid singularity\n",
    "    return probs\n",
    "# optimize the acquisition function\n",
    "def opt_acquisition(X, y, model):\n",
    "    \"\"\"\n",
    "    #TODO: halt and inform the user of the selected value!\n",
    "    \"\"\"\n",
    "    # random search, generate random samples\n",
    "    set_samples = get_multiple_random_search_set_dict(iterations=1000)   # array containing parameter sets in each row\n",
    "    # calculate the acquisition function for each sample\n",
    "    scores = acquisition(X, set_samples, model)  # scores determine the probability of improvement for each sample\n",
    "    # locate the index of the largest scores (best probability of improvement)\n",
    "    ix = np.argmax(scores) # this sample is the one that has the \"best\" probability of improvement if acquisition is trusted\n",
    "    return set_samples[ix, :]\n",
    "\n",
    "\n",
    "def get_next_parameter_set(Xarray, y):\n",
    "    # define the model (surrogate function)\n",
    "    model = GaussianProcessRegressor()\n",
    "    # fit the model\n",
    "    model.fit(Xarray, y)\n",
    "    # perform the optimization process\n",
    "    # select the next point to sample\n",
    "    new_parameter_set = opt_acquisition(Xarray, y, model)\n",
    "    #print(\"Next set of parameters is:\", new_parameter_set)\n",
    "    # sample the point\n",
    "    new_y = objective(new_parameter_set)\n",
    "    # summarize the finding\n",
    "    est, _ = surrogate(model, np.array([new_parameter_set]))\n",
    "    #print(f\"sample set {xarray}, f()={est}, actual={actual}\")\n",
    "    # add the data to the dataset\n",
    "    Xarray = np.vstack((Xarray, new_parameter_set))\n",
    "    y = np.hstack((y, np.array([new_y])))\n",
    "    # update the model (update the guassian surrogate function)\n",
    "    model.fit(Xarray, y)\n",
    "    # best result\n",
    "    ix = np.argmax(y)\n",
    "    return Xarray, y, new_parameter_set, new_y\n",
    "\n"
   ]
  },
  {
   "cell_type": "markdown",
   "id": "9cf1ab5b",
   "metadata": {},
   "source": [
    "\n",
    "### Gather priors\n",
    "#### Initialize with Random Search "
   ]
  },
  {
   "cell_type": "code",
   "execution_count": 5,
   "id": "e77c4284",
   "metadata": {},
   "outputs": [],
   "source": [
    "### Random Search\n",
    "# X is the input for the obj function, xarray is an array containing the parameters of interest\n",
    "Xarray = get_multiple_random_search_set_dict(20) # Getting 20 priors\n",
    "# y is the result of the objective function for each parameter set\n",
    "y = np.asarray([objective(x) for x in Xarray])\n",
    "\n"
   ]
  },
  {
   "cell_type": "markdown",
   "id": "58ce62e4",
   "metadata": {},
   "source": [
    "#### Initialize with Manual Data"
   ]
  },
  {
   "cell_type": "code",
   "execution_count": 6,
   "id": "0570721b",
   "metadata": {},
   "outputs": [],
   "source": [
    "# It is possible to manually add values also. Let's update Xarray with an extra set of parameters:\n",
    "new_values = np.array([4, 52, 0.77])  # Make sure the dimension much previoius parameter inputs (in this case 3)\n",
    "new_y = 2.5\n",
    "# Update\n",
    "Xarray = np.vstack((Xarray, new_values))\n",
    "y = np.hstack((y, np.array([new_y])))\n",
    "\n",
    "# Add more than one extra set of parameters\n",
    "new_values_plural = np.array([[4, 52, 0.77], [60,20,0.5], [35,77,-0.2]])\n",
    "new_y_plural = np.array([3,5,-2])\n",
    "# # Update\n",
    "Xarray = np.vstack((Xarray, new_values_plural))\n",
    "y = np.hstack((y, new_y_plural))\n",
    "\n"
   ]
  },
  {
   "cell_type": "markdown",
   "id": "3348bb0a",
   "metadata": {},
   "source": [
    "### The algorithm suggest a new set of parameters to try:"
   ]
  },
  {
   "cell_type": "code",
   "execution_count": 7,
   "id": "2068ee2f",
   "metadata": {},
   "outputs": [
    {
     "name": "stdout",
     "output_type": "stream",
     "text": [
      "Suggested new parameter set: [ 6.80000000e+01  9.80000000e+01 -7.07070707e-02]\n"
     ]
    }
   ],
   "source": [
    "Xarray, y, new_parameter_set, new_y = get_next_parameter_set(Xarray, y)\n",
    "print(f\"Suggested new parameter set: {new_parameter_set}\")"
   ]
  },
  {
   "cell_type": "markdown",
   "id": "e8585986",
   "metadata": {},
   "source": [
    "# Toy example (automated, not manual) with 1D function"
   ]
  },
  {
   "cell_type": "code",
   "execution_count": 10,
   "id": "51e4b511",
   "metadata": {},
   "outputs": [
    {
     "data": {
      "image/png": "[encoded data removed]",
      "text/plain": [
       "<Figure size 432x288 with 1 Axes>"
      ]
     },
     "metadata": {
      "needs_background": "light"
     },
     "output_type": "display_data"
    },
    {
     "data": {
      "image/png": "[encoded data removed]",
      "text/plain": [
       "<Figure size 432x288 with 1 Axes>"
      ]
     },
     "metadata": {
      "needs_background": "light"
     },
     "output_type": "display_data"
    },
    {
     "name": "stdout",
     "output_type": "stream",
     "text": [
      "Ground truth: x=0.9, y=0.81\n",
      "Best result found at x=0.9008289635408787 with objective function y=0.8110801368515097\n"
     ]
    }
   ],
   "source": [
    "\n",
    "\n",
    "# Define a simple objective function\n",
    "def objective(params):\n",
    "    return (params**2 * np.sin(5*np.pi*params)**6.0) \n",
    "\n",
    "\n",
    "# surrogate or approximation for the objective function\n",
    "def surrogate(model, X):\n",
    "    # catch any warning generated when making a prediction\n",
    "    with warnings.catch_warnings():\n",
    "        # ignore generated warnings\n",
    "        warnings.simplefilter(\"ignore\")\n",
    "        return model.predict(X, return_std=True)\n",
    "\n",
    "# acquisition function - rules to decide which hyperparameter set is best\n",
    "def acquisition(X, Xsamples, model):\n",
    "    # update surrogate model\n",
    "    surrogate_output, _ = surrogate(model, X)\n",
    "    best = np.max(surrogate_output)  \n",
    "    # calculate mean and stdev via surrogate function given randomly proposed samples\n",
    "    mu, std = surrogate(model, Xsamples)\n",
    "    # calculate the probability of improvement\n",
    "    probs = scipy.stats.norm.cdf((mu - best) / (std+1E-9))  # Add small number to std to avoid singularity\n",
    "    return probs\n",
    "\n",
    "\n",
    "# optimize the acquisition function\n",
    "def opt_acquisition(X, y, model):\n",
    "    # generate random samples to choose from\n",
    "    set_samples = np.random.random(100)   # array containing parameter sets in each row\n",
    "    set_samples = set_samples.reshape(len(set_samples), 1)\n",
    "    # calculate the acquisition function for each sample\n",
    "    scores = acquisition(X, set_samples, model)  # scores determine the probability of improvement for each sample\n",
    "    # locate the index of the largest scores (best probability of improvement)\n",
    "    ix = np.argmax(scores) # this sample is the one that has the \"best\" probability of improvement \n",
    "    return set_samples[ix, :]\n",
    "\n",
    "def plot(X, y, model, title):\n",
    "    # scatter plot of inputs and real objective function\n",
    "    plt.scatter(X, y, label = \"Data points\")\n",
    "    # line plot of surrogate function across domain\n",
    "    Xsamples = np.asarray(np.arange(0, 1, 0.001))\n",
    "    Xsamples = Xsamples.reshape(len(Xsamples), 1)\n",
    "    ysamples, _ = surrogate(model, Xsamples)\n",
    "    plt.plot(Xsamples, ysamples, c=\"r\", label=\"Surrogate Model\")\n",
    "    plt.legend()\n",
    "    plt.savefig(title)\n",
    "    plt.show()\n",
    "\n",
    "\n",
    "\n",
    "#GATHER PRIORS: INITIALIZE WITH RANODM SEARCH\n",
    "\n",
    "# X is the input for the obj function, xarray is an array containing the parameters of interest\n",
    "Xarray = np.random.random(100) \n",
    "# y is the result of the objective function for each parameter set\n",
    "y = np.asarray([objective(x) for x in Xarray])\n",
    "Xarray = Xarray.reshape(len(Xarray), 1)\n",
    "# define the model\n",
    "model = GaussianProcessRegressor()\n",
    "# fit the model\n",
    "model.fit(Xarray, y)\n",
    "plot(Xarray, y, model, \"Surrogate Model - Before\")\n",
    "\n",
    "\n",
    "    \n",
    "# PART 2 - BAYESIAN OPTIMIZATION\n",
    "for i in range(100):\n",
    "    # select the next point to sample\n",
    "    xarray = opt_acquisition(Xarray, y, model)\n",
    "    # sample the point\n",
    "    actual = objective(xarray)\n",
    "    # summarize the finding\n",
    "    est, _ = surrogate(model, np.array([xarray]))\n",
    "    # add the data to the dataset\n",
    "    Xarray = np.vstack((Xarray, xarray))\n",
    "    y = np.hstack((y, actual[0]))\n",
    "    # update the model (update the guassian surrogate function)\n",
    "    model.fit(Xarray, y)\n",
    "\n",
    "# plot all samples and the final surrogate function\n",
    "plot(Xarray, y, model, \"Surrogate Model - After\")\n",
    "# best result\n",
    "ix = np.argmax(y)\n",
    "print(f\"Ground truth: x=0.9, y=0.81\\nBest result found at x={Xarray[ix][0]} with objective function y={y[ix]}\")"
   ]
  }
 ],
 "metadata": {
  "kernelspec": {
   "display_name": "Python 3 (ipykernel)",
   "language": "python",
   "name": "python3"
  },
  "language_info": {
   "codemirror_mode": {
    "name": "ipython",
    "version": 3
   },
   "file_extension": ".py",
   "mimetype": "text/x-python",
   "name": "python",
   "nbconvert_exporter": "python",
   "pygments_lexer": "ipython3",
   "version": "3.8.12"
  }
 },
 "nbformat": 4,
 "nbformat_minor": 5
}
