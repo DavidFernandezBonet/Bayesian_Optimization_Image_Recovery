{
 "cells": [
  {
   "cell_type": "markdown",
   "metadata": {},
   "source": [
    "# Prepare run"
   ]
  },
  {
   "cell_type": "code",
   "execution_count": 1,
   "metadata": {},
   "outputs": [
    {
     "name": "stdout",
     "output_type": "stream",
     "text": [
      "Requirement already satisfied: gensim==3.7.1 in /home/david/anaconda3/lib/python3.8/site-packages (3.7.1)\n",
      "Requirement already satisfied: six>=1.5.0 in /home/david/anaconda3/lib/python3.8/site-packages (from gensim==3.7.1) (1.16.0)\n",
      "Requirement already satisfied: smart-open>=1.7.0 in /home/david/anaconda3/lib/python3.8/site-packages (from gensim==3.7.1) (5.2.1)\n",
      "Requirement already satisfied: numpy>=1.11.3 in /home/david/anaconda3/lib/python3.8/site-packages (from gensim==3.7.1) (1.22.4)\n",
      "Requirement already satisfied: scipy>=0.18.1 in /home/david/anaconda3/lib/python3.8/site-packages (from gensim==3.7.1) (1.9.0)\n",
      "\n",
      "\u001b[1m[\u001b[0m\u001b[34;49mnotice\u001b[0m\u001b[1;39;49m]\u001b[0m\u001b[39;49m A new release of pip available: \u001b[0m\u001b[31;49m22.3\u001b[0m\u001b[39;49m -> \u001b[0m\u001b[32;49m22.3.1\u001b[0m\n",
      "\u001b[1m[\u001b[0m\u001b[34;49mnotice\u001b[0m\u001b[1;39;49m]\u001b[0m\u001b[39;49m To update, run: \u001b[0m\u001b[32;49mpip install --upgrade pip\u001b[0m\n",
      "Requirement already satisfied: umap-learn==0.5.3 in /home/david/anaconda3/lib/python3.8/site-packages (0.5.3)\n",
      "Requirement already satisfied: numba>=0.49 in /home/david/anaconda3/lib/python3.8/site-packages (from umap-learn==0.5.3) (0.56.0)\n",
      "Requirement already satisfied: scikit-learn>=0.22 in /home/david/anaconda3/lib/python3.8/site-packages (from umap-learn==0.5.3) (1.1.3)\n",
      "Requirement already satisfied: tqdm in /home/david/anaconda3/lib/python3.8/site-packages (from umap-learn==0.5.3) (4.63.0)\n",
      "Requirement already satisfied: scipy>=1.0 in /home/david/anaconda3/lib/python3.8/site-packages (from umap-learn==0.5.3) (1.9.0)\n",
      "Requirement already satisfied: numpy>=1.17 in /home/david/anaconda3/lib/python3.8/site-packages (from umap-learn==0.5.3) (1.22.4)\n",
      "Requirement already satisfied: pynndescent>=0.5 in /home/david/anaconda3/lib/python3.8/site-packages (from umap-learn==0.5.3) (0.5.8)\n",
      "Requirement already satisfied: setuptools in /home/david/anaconda3/lib/python3.8/site-packages (from numba>=0.49->umap-learn==0.5.3) (60.2.0)\n",
      "Requirement already satisfied: importlib-metadata in /home/david/anaconda3/lib/python3.8/site-packages (from numba>=0.49->umap-learn==0.5.3) (4.8.2)\n",
      "Requirement already satisfied: llvmlite<0.40,>=0.39.0dev0 in /home/david/anaconda3/lib/python3.8/site-packages (from numba>=0.49->umap-learn==0.5.3) (0.39.0)\n",
      "Requirement already satisfied: joblib>=0.11 in /home/david/anaconda3/lib/python3.8/site-packages (from pynndescent>=0.5->umap-learn==0.5.3) (1.1.0)\n",
      "Requirement already satisfied: threadpoolctl>=2.0.0 in /home/david/anaconda3/lib/python3.8/site-packages (from scikit-learn>=0.22->umap-learn==0.5.3) (2.2.0)\n",
      "Requirement already satisfied: zipp>=0.5 in /home/david/anaconda3/lib/python3.8/site-packages (from importlib-metadata->numba>=0.49->umap-learn==0.5.3) (3.7.0)\n",
      "\n",
      "\u001b[1m[\u001b[0m\u001b[34;49mnotice\u001b[0m\u001b[1;39;49m]\u001b[0m\u001b[39;49m A new release of pip available: \u001b[0m\u001b[31;49m22.3\u001b[0m\u001b[39;49m -> \u001b[0m\u001b[32;49m22.3.1\u001b[0m\n",
      "\u001b[1m[\u001b[0m\u001b[34;49mnotice\u001b[0m\u001b[1;39;49m]\u001b[0m\u001b[39;49m To update, run: \u001b[0m\u001b[32;49mpip install --upgrade pip\u001b[0m\n",
      "Requirement already satisfied: scipy==1.9.0 in /home/david/anaconda3/lib/python3.8/site-packages (1.9.0)\n",
      "Requirement already satisfied: numpy<1.25.0,>=1.18.5 in /home/david/anaconda3/lib/python3.8/site-packages (from scipy==1.9.0) (1.22.4)\n",
      "\n",
      "\u001b[1m[\u001b[0m\u001b[34;49mnotice\u001b[0m\u001b[1;39;49m]\u001b[0m\u001b[39;49m A new release of pip available: \u001b[0m\u001b[31;49m22.3\u001b[0m\u001b[39;49m -> \u001b[0m\u001b[32;49m22.3.1\u001b[0m\n",
      "\u001b[1m[\u001b[0m\u001b[34;49mnotice\u001b[0m\u001b[1;39;49m]\u001b[0m\u001b[39;49m To update, run: \u001b[0m\u001b[32;49mpip install --upgrade pip\u001b[0m\n",
      "Requirement already satisfied: networkx==2.8.6 in /home/david/anaconda3/lib/python3.8/site-packages (2.8.6)\n",
      "\n",
      "\u001b[1m[\u001b[0m\u001b[34;49mnotice\u001b[0m\u001b[1;39;49m]\u001b[0m\u001b[39;49m A new release of pip available: \u001b[0m\u001b[31;49m22.3\u001b[0m\u001b[39;49m -> \u001b[0m\u001b[32;49m22.3.1\u001b[0m\n",
      "\u001b[1m[\u001b[0m\u001b[34;49mnotice\u001b[0m\u001b[1;39;49m]\u001b[0m\u001b[39;49m To update, run: \u001b[0m\u001b[32;49mpip install --upgrade pip\u001b[0m\n",
      "Requirement already satisfied: setuptools~=60.2.0 in /home/david/anaconda3/lib/python3.8/site-packages (60.2.0)\n",
      "\n",
      "\u001b[1m[\u001b[0m\u001b[34;49mnotice\u001b[0m\u001b[1;39;49m]\u001b[0m\u001b[39;49m A new release of pip available: \u001b[0m\u001b[31;49m22.3\u001b[0m\u001b[39;49m -> \u001b[0m\u001b[32;49m22.3.1\u001b[0m\n",
      "\u001b[1m[\u001b[0m\u001b[34;49mnotice\u001b[0m\u001b[1;39;49m]\u001b[0m\u001b[39;49m To update, run: \u001b[0m\u001b[32;49mpip install --upgrade pip\u001b[0m\n",
      "Requirement already satisfied: pandas~=1.4.3 in /home/david/anaconda3/lib/python3.8/site-packages (1.4.4)\n",
      "Requirement already satisfied: numpy>=1.18.5 in /home/david/anaconda3/lib/python3.8/site-packages (from pandas~=1.4.3) (1.22.4)\n",
      "Requirement already satisfied: python-dateutil>=2.8.1 in /home/david/anaconda3/lib/python3.8/site-packages (from pandas~=1.4.3) (2.8.2)\n",
      "Requirement already satisfied: pytz>=2020.1 in /home/david/anaconda3/lib/python3.8/site-packages (from pandas~=1.4.3) (2021.3)\n",
      "Requirement already satisfied: six>=1.5 in /home/david/anaconda3/lib/python3.8/site-packages (from python-dateutil>=2.8.1->pandas~=1.4.3) (1.16.0)\n",
      "\n",
      "\u001b[1m[\u001b[0m\u001b[34;49mnotice\u001b[0m\u001b[1;39;49m]\u001b[0m\u001b[39;49m A new release of pip available: \u001b[0m\u001b[31;49m22.3\u001b[0m\u001b[39;49m -> \u001b[0m\u001b[32;49m22.3.1\u001b[0m\n",
      "\u001b[1m[\u001b[0m\u001b[34;49mnotice\u001b[0m\u001b[1;39;49m]\u001b[0m\u001b[39;49m To update, run: \u001b[0m\u001b[32;49mpip install --upgrade pip\u001b[0m\n",
      "Requirement already satisfied: matplotlib~=3.5.3 in /home/david/anaconda3/lib/python3.8/site-packages (3.5.3)\n",
      "Requirement already satisfied: packaging>=20.0 in /home/david/anaconda3/lib/python3.8/site-packages (from matplotlib~=3.5.3) (21.3)\n",
      "Requirement already satisfied: pyparsing>=2.2.1 in /home/david/anaconda3/lib/python3.8/site-packages (from matplotlib~=3.5.3) (3.0.4)\n",
      "Requirement already satisfied: pillow>=6.2.0 in /home/david/anaconda3/lib/python3.8/site-packages (from matplotlib~=3.5.3) (9.0.1)\n",
      "Requirement already satisfied: cycler>=0.10 in /home/david/anaconda3/lib/python3.8/site-packages (from matplotlib~=3.5.3) (0.11.0)\n",
      "Requirement already satisfied: python-dateutil>=2.7 in /home/david/anaconda3/lib/python3.8/site-packages (from matplotlib~=3.5.3) (2.8.2)\n",
      "Requirement already satisfied: kiwisolver>=1.0.1 in /home/david/anaconda3/lib/python3.8/site-packages (from matplotlib~=3.5.3) (1.3.2)\n",
      "Requirement already satisfied: numpy>=1.17 in /home/david/anaconda3/lib/python3.8/site-packages (from matplotlib~=3.5.3) (1.22.4)\n",
      "Requirement already satisfied: fonttools>=4.22.0 in /home/david/anaconda3/lib/python3.8/site-packages (from matplotlib~=3.5.3) (4.25.0)\n",
      "Requirement already satisfied: six>=1.5 in /home/david/anaconda3/lib/python3.8/site-packages (from python-dateutil>=2.7->matplotlib~=3.5.3) (1.16.0)\n",
      "\n",
      "\u001b[1m[\u001b[0m\u001b[34;49mnotice\u001b[0m\u001b[1;39;49m]\u001b[0m\u001b[39;49m A new release of pip available: \u001b[0m\u001b[31;49m22.3\u001b[0m\u001b[39;49m -> \u001b[0m\u001b[32;49m22.3.1\u001b[0m\n",
      "\u001b[1m[\u001b[0m\u001b[34;49mnotice\u001b[0m\u001b[1;39;49m]\u001b[0m\u001b[39;49m To update, run: \u001b[0m\u001b[32;49mpip install --upgrade pip\u001b[0m\n",
      "Requirement already satisfied: pycpd~=2.0.0 in /home/david/anaconda3/lib/python3.8/site-packages (2.0.0)\n",
      "Requirement already satisfied: future in /home/david/anaconda3/lib/python3.8/site-packages (from pycpd~=2.0.0) (0.18.2)\n",
      "Requirement already satisfied: numpy in /home/david/anaconda3/lib/python3.8/site-packages (from pycpd~=2.0.0) (1.22.4)\n",
      "\n",
      "\u001b[1m[\u001b[0m\u001b[34;49mnotice\u001b[0m\u001b[1;39;49m]\u001b[0m\u001b[39;49m A new release of pip available: \u001b[0m\u001b[31;49m22.3\u001b[0m\u001b[39;49m -> \u001b[0m\u001b[32;49m22.3.1\u001b[0m\n",
      "\u001b[1m[\u001b[0m\u001b[34;49mnotice\u001b[0m\u001b[1;39;49m]\u001b[0m\u001b[39;49m To update, run: \u001b[0m\u001b[32;49mpip install --upgrade pip\u001b[0m\n",
      "Requirement already satisfied: scikit-learn~=1.1.2 in /home/david/anaconda3/lib/python3.8/site-packages (1.1.3)\n",
      "Requirement already satisfied: joblib>=1.0.0 in /home/david/anaconda3/lib/python3.8/site-packages (from scikit-learn~=1.1.2) (1.1.0)\n",
      "Requirement already satisfied: numpy>=1.17.3 in /home/david/anaconda3/lib/python3.8/site-packages (from scikit-learn~=1.1.2) (1.22.4)\n",
      "Requirement already satisfied: scipy>=1.3.2 in /home/david/anaconda3/lib/python3.8/site-packages (from scikit-learn~=1.1.2) (1.9.0)\n",
      "Requirement already satisfied: threadpoolctl>=2.0.0 in /home/david/anaconda3/lib/python3.8/site-packages (from scikit-learn~=1.1.2) (2.2.0)\n",
      "\n",
      "\u001b[1m[\u001b[0m\u001b[34;49mnotice\u001b[0m\u001b[1;39;49m]\u001b[0m\u001b[39;49m A new release of pip available: \u001b[0m\u001b[31;49m22.3\u001b[0m\u001b[39;49m -> \u001b[0m\u001b[32;49m22.3.1\u001b[0m\n",
      "\u001b[1m[\u001b[0m\u001b[34;49mnotice\u001b[0m\u001b[1;39;49m]\u001b[0m\u001b[39;49m To update, run: \u001b[0m\u001b[32;49mpip install --upgrade pip\u001b[0m\n",
      "Requirement already satisfied: scipy~=1.9.0 in /home/david/anaconda3/lib/python3.8/site-packages (1.9.0)\n",
      "Requirement already satisfied: numpy<1.25.0,>=1.18.5 in /home/david/anaconda3/lib/python3.8/site-packages (from scipy~=1.9.0) (1.22.4)\n"
     ]
    },
    {
     "name": "stdout",
     "output_type": "stream",
     "text": [
      "\n",
      "\u001b[1m[\u001b[0m\u001b[34;49mnotice\u001b[0m\u001b[1;39;49m]\u001b[0m\u001b[39;49m A new release of pip available: \u001b[0m\u001b[31;49m22.3\u001b[0m\u001b[39;49m -> \u001b[0m\u001b[32;49m22.3.1\u001b[0m\n",
      "\u001b[1m[\u001b[0m\u001b[34;49mnotice\u001b[0m\u001b[1;39;49m]\u001b[0m\u001b[39;49m To update, run: \u001b[0m\u001b[32;49mpip install --upgrade pip\u001b[0m\n",
      "Requirement already satisfied: numpy~=1.22.4 in /home/david/anaconda3/lib/python3.8/site-packages (1.22.4)\n",
      "\n",
      "\u001b[1m[\u001b[0m\u001b[34;49mnotice\u001b[0m\u001b[1;39;49m]\u001b[0m\u001b[39;49m A new release of pip available: \u001b[0m\u001b[31;49m22.3\u001b[0m\u001b[39;49m -> \u001b[0m\u001b[32;49m22.3.1\u001b[0m\n",
      "\u001b[1m[\u001b[0m\u001b[34;49mnotice\u001b[0m\u001b[1;39;49m]\u001b[0m\u001b[39;49m To update, run: \u001b[0m\u001b[32;49mpip install --upgrade pip\u001b[0m\n",
      "Requirement already satisfied: csrgraph~=0.1.28 in /home/david/anaconda3/lib/python3.8/site-packages (0.1.28)\n",
      "Requirement already satisfied: networkx in /home/david/anaconda3/lib/python3.8/site-packages (from csrgraph~=0.1.28) (2.8.6)\n",
      "Requirement already satisfied: pandas in /home/david/anaconda3/lib/python3.8/site-packages (from csrgraph~=0.1.28) (1.4.4)\n",
      "Requirement already satisfied: scipy in /home/david/anaconda3/lib/python3.8/site-packages (from csrgraph~=0.1.28) (1.9.0)\n",
      "Requirement already satisfied: numba in /home/david/anaconda3/lib/python3.8/site-packages (from csrgraph~=0.1.28) (0.56.0)\n",
      "Requirement already satisfied: numpy in /home/david/anaconda3/lib/python3.8/site-packages (from csrgraph~=0.1.28) (1.22.4)\n",
      "Requirement already satisfied: scikit-learn in /home/david/anaconda3/lib/python3.8/site-packages (from csrgraph~=0.1.28) (1.1.3)\n",
      "Requirement already satisfied: tqdm in /home/david/anaconda3/lib/python3.8/site-packages (from csrgraph~=0.1.28) (4.63.0)\n",
      "Requirement already satisfied: llvmlite<0.40,>=0.39.0dev0 in /home/david/anaconda3/lib/python3.8/site-packages (from numba->csrgraph~=0.1.28) (0.39.0)\n",
      "Requirement already satisfied: importlib-metadata in /home/david/anaconda3/lib/python3.8/site-packages (from numba->csrgraph~=0.1.28) (4.8.2)\n",
      "Requirement already satisfied: setuptools in /home/david/anaconda3/lib/python3.8/site-packages (from numba->csrgraph~=0.1.28) (60.2.0)\n",
      "Requirement already satisfied: pytz>=2020.1 in /home/david/anaconda3/lib/python3.8/site-packages (from pandas->csrgraph~=0.1.28) (2021.3)\n",
      "Requirement already satisfied: python-dateutil>=2.8.1 in /home/david/anaconda3/lib/python3.8/site-packages (from pandas->csrgraph~=0.1.28) (2.8.2)\n",
      "Requirement already satisfied: threadpoolctl>=2.0.0 in /home/david/anaconda3/lib/python3.8/site-packages (from scikit-learn->csrgraph~=0.1.28) (2.2.0)\n",
      "Requirement already satisfied: joblib>=1.0.0 in /home/david/anaconda3/lib/python3.8/site-packages (from scikit-learn->csrgraph~=0.1.28) (1.1.0)\n",
      "Requirement already satisfied: six>=1.5 in /home/david/anaconda3/lib/python3.8/site-packages (from python-dateutil>=2.8.1->pandas->csrgraph~=0.1.28) (1.16.0)\n",
      "Requirement already satisfied: zipp>=0.5 in /home/david/anaconda3/lib/python3.8/site-packages (from importlib-metadata->numba->csrgraph~=0.1.28) (3.7.0)\n",
      "\n",
      "\u001b[1m[\u001b[0m\u001b[34;49mnotice\u001b[0m\u001b[1;39;49m]\u001b[0m\u001b[39;49m A new release of pip available: \u001b[0m\u001b[31;49m22.3\u001b[0m\u001b[39;49m -> \u001b[0m\u001b[32;49m22.3.1\u001b[0m\n",
      "\u001b[1m[\u001b[0m\u001b[34;49mnotice\u001b[0m\u001b[1;39;49m]\u001b[0m\u001b[39;49m To update, run: \u001b[0m\u001b[32;49mpip install --upgrade pip\u001b[0m\n",
      "Requirement already satisfied: nodevectors~=0.1.23 in /home/david/anaconda3/lib/python3.8/site-packages (0.1.23)\n",
      "Requirement already satisfied: numpy in /home/david/anaconda3/lib/python3.8/site-packages (from nodevectors~=0.1.23) (1.22.4)\n",
      "Requirement already satisfied: numba in /home/david/anaconda3/lib/python3.8/site-packages (from nodevectors~=0.1.23) (0.56.0)\n",
      "Requirement already satisfied: csrgraph in /home/david/anaconda3/lib/python3.8/site-packages (from nodevectors~=0.1.23) (0.1.28)\n",
      "Requirement already satisfied: scipy in /home/david/anaconda3/lib/python3.8/site-packages (from nodevectors~=0.1.23) (1.9.0)\n",
      "Requirement already satisfied: scikit-learn in /home/david/anaconda3/lib/python3.8/site-packages (from nodevectors~=0.1.23) (1.1.3)\n",
      "Requirement already satisfied: gensim in /home/david/anaconda3/lib/python3.8/site-packages (from nodevectors~=0.1.23) (3.7.1)\n",
      "Requirement already satisfied: networkx in /home/david/anaconda3/lib/python3.8/site-packages (from nodevectors~=0.1.23) (2.8.6)\n",
      "Requirement already satisfied: pandas>=1.0 in /home/david/anaconda3/lib/python3.8/site-packages (from nodevectors~=0.1.23) (1.4.4)\n",
      "Requirement already satisfied: pytz>=2020.1 in /home/david/anaconda3/lib/python3.8/site-packages (from pandas>=1.0->nodevectors~=0.1.23) (2021.3)\n",
      "Requirement already satisfied: python-dateutil>=2.8.1 in /home/david/anaconda3/lib/python3.8/site-packages (from pandas>=1.0->nodevectors~=0.1.23) (2.8.2)\n",
      "Requirement already satisfied: tqdm in /home/david/anaconda3/lib/python3.8/site-packages (from csrgraph->nodevectors~=0.1.23) (4.63.0)\n",
      "Requirement already satisfied: smart-open>=1.7.0 in /home/david/anaconda3/lib/python3.8/site-packages (from gensim->nodevectors~=0.1.23) (5.2.1)\n",
      "Requirement already satisfied: six>=1.5.0 in /home/david/anaconda3/lib/python3.8/site-packages (from gensim->nodevectors~=0.1.23) (1.16.0)\n",
      "Requirement already satisfied: importlib-metadata in /home/david/anaconda3/lib/python3.8/site-packages (from numba->nodevectors~=0.1.23) (4.8.2)\n",
      "Requirement already satisfied: llvmlite<0.40,>=0.39.0dev0 in /home/david/anaconda3/lib/python3.8/site-packages (from numba->nodevectors~=0.1.23) (0.39.0)\n",
      "Requirement already satisfied: setuptools in /home/david/anaconda3/lib/python3.8/site-packages (from numba->nodevectors~=0.1.23) (60.2.0)\n",
      "Requirement already satisfied: threadpoolctl>=2.0.0 in /home/david/anaconda3/lib/python3.8/site-packages (from scikit-learn->nodevectors~=0.1.23) (2.2.0)\n",
      "Requirement already satisfied: joblib>=1.0.0 in /home/david/anaconda3/lib/python3.8/site-packages (from scikit-learn->nodevectors~=0.1.23) (1.1.0)\n",
      "Requirement already satisfied: zipp>=0.5 in /home/david/anaconda3/lib/python3.8/site-packages (from importlib-metadata->numba->nodevectors~=0.1.23) (3.7.0)\n",
      "\n",
      "\u001b[1m[\u001b[0m\u001b[34;49mnotice\u001b[0m\u001b[1;39;49m]\u001b[0m\u001b[39;49m A new release of pip available: \u001b[0m\u001b[31;49m22.3\u001b[0m\u001b[39;49m -> \u001b[0m\u001b[32;49m22.3.1\u001b[0m\n",
      "\u001b[1m[\u001b[0m\u001b[34;49mnotice\u001b[0m\u001b[1;39;49m]\u001b[0m\u001b[39;49m To update, run: \u001b[0m\u001b[32;49mpip install --upgrade pip\u001b[0m\n",
      "Requirement already satisfied: networkx~=2.8.6 in /home/david/anaconda3/lib/python3.8/site-packages (2.8.6)\n",
      "\n",
      "\u001b[1m[\u001b[0m\u001b[34;49mnotice\u001b[0m\u001b[1;39;49m]\u001b[0m\u001b[39;49m A new release of pip available: \u001b[0m\u001b[31;49m22.3\u001b[0m\u001b[39;49m -> \u001b[0m\u001b[32;49m22.3.1\u001b[0m\n",
      "\u001b[1m[\u001b[0m\u001b[34;49mnotice\u001b[0m\u001b[1;39;49m]\u001b[0m\u001b[39;49m To update, run: \u001b[0m\u001b[32;49mpip install --upgrade pip\u001b[0m\n",
      "Requirement already satisfied: seaborn~=0.11.2 in /home/david/anaconda3/lib/python3.8/site-packages (0.11.2)\n",
      "Requirement already satisfied: numpy>=1.15 in /home/david/anaconda3/lib/python3.8/site-packages (from seaborn~=0.11.2) (1.22.4)\n",
      "Requirement already satisfied: scipy>=1.0 in /home/david/anaconda3/lib/python3.8/site-packages (from seaborn~=0.11.2) (1.9.0)\n",
      "Requirement already satisfied: pandas>=0.23 in /home/david/anaconda3/lib/python3.8/site-packages (from seaborn~=0.11.2) (1.4.4)\n",
      "Requirement already satisfied: matplotlib>=2.2 in /home/david/anaconda3/lib/python3.8/site-packages (from seaborn~=0.11.2) (3.5.3)\n",
      "Requirement already satisfied: pillow>=6.2.0 in /home/david/anaconda3/lib/python3.8/site-packages (from matplotlib>=2.2->seaborn~=0.11.2) (9.0.1)\n",
      "Requirement already satisfied: kiwisolver>=1.0.1 in /home/david/anaconda3/lib/python3.8/site-packages (from matplotlib>=2.2->seaborn~=0.11.2) (1.3.2)\n",
      "Requirement already satisfied: packaging>=20.0 in /home/david/anaconda3/lib/python3.8/site-packages (from matplotlib>=2.2->seaborn~=0.11.2) (21.3)\n",
      "Requirement already satisfied: python-dateutil>=2.7 in /home/david/anaconda3/lib/python3.8/site-packages (from matplotlib>=2.2->seaborn~=0.11.2) (2.8.2)\n",
      "Requirement already satisfied: fonttools>=4.22.0 in /home/david/anaconda3/lib/python3.8/site-packages (from matplotlib>=2.2->seaborn~=0.11.2) (4.25.0)\n",
      "Requirement already satisfied: pyparsing>=2.2.1 in /home/david/anaconda3/lib/python3.8/site-packages (from matplotlib>=2.2->seaborn~=0.11.2) (3.0.4)\n",
      "Requirement already satisfied: cycler>=0.10 in /home/david/anaconda3/lib/python3.8/site-packages (from matplotlib>=2.2->seaborn~=0.11.2) (0.11.0)\n",
      "Requirement already satisfied: pytz>=2020.1 in /home/david/anaconda3/lib/python3.8/site-packages (from pandas>=0.23->seaborn~=0.11.2) (2021.3)\n",
      "Requirement already satisfied: six>=1.5 in /home/david/anaconda3/lib/python3.8/site-packages (from python-dateutil>=2.7->matplotlib>=2.2->seaborn~=0.11.2) (1.16.0)\n"
     ]
    },
    {
     "name": "stdout",
     "output_type": "stream",
     "text": [
      "\r\n",
      "\u001b[1m[\u001b[0m\u001b[34;49mnotice\u001b[0m\u001b[1;39;49m]\u001b[0m\u001b[39;49m A new release of pip available: \u001b[0m\u001b[31;49m22.3\u001b[0m\u001b[39;49m -> \u001b[0m\u001b[32;49m22.3.1\u001b[0m\r\n",
      "\u001b[1m[\u001b[0m\u001b[34;49mnotice\u001b[0m\u001b[1;39;49m]\u001b[0m\u001b[39;49m To update, run: \u001b[0m\u001b[32;49mpip install --upgrade pip\u001b[0m\r\n"
     ]
    }
   ],
   "source": [
    "import os\n",
    "import sys\n",
    "\n",
    "# Make sure all requirements are met\n",
    "!{sys.executable} -m pip install gensim==3.7.1  \n",
    "!{sys.executable} -m pip install umap-learn==0.5.3\n",
    "!{sys.executable} -m pip install scipy==1.9.0\n",
    "!{sys.executable} -m pip install networkx==2.8.6\n",
    "!{sys.executable} -m pip install setuptools~=60.2.0\n",
    "!{sys.executable} -m pip install pandas~=1.4.3\n",
    "!{sys.executable} -m pip install matplotlib~=3.5.3\n",
    "!{sys.executable} -m pip install pycpd~=2.0.0\n",
    "!{sys.executable} -m pip install scikit-learn~=1.1.2\n",
    "!{sys.executable} -m pip install scipy~=1.9.0\n",
    "!{sys.executable} -m pip install numpy~=1.22.4\n",
    "!{sys.executable} -m pip install csrgraph~=0.1.28\n",
    "!{sys.executable} -m pip install nodevectors~=0.1.23\n",
    "!{sys.executable} -m pip install networkx~=2.8.6\n",
    "!{sys.executable} -m pip install seaborn~=0.11.2\n",
    "\n",
    "\n",
    "os.chdir(\"..\") # To read functions\n",
    "\n",
    "from complexity_plots import get_comp_complexity_both_plots\n",
    "\n",
    "os.chdir(\"..\") # To access data folders"
   ]
  },
  {
   "cell_type": "code",
   "execution_count": 2,
   "metadata": {},
   "outputs": [
    {
     "data": {
      "image/png": "[encoded data removed]",
      "text/plain": [
       "<Figure size 432x288 with 1 Axes>"
      ]
     },
     "metadata": {
      "needs_background": "light"
     },
     "output_type": "display_data"
    },
    {
     "data": {
      "image/png": "[encoded data removed]",
      "text/plain": [
       "<Figure size 252x189 with 1 Axes>"
      ]
     },
     "metadata": {
      "needs_background": "light"
     },
     "output_type": "display_data"
    }
   ],
   "source": [
    "get_comp_complexity_both_plots()"
   ]
  }
 ],
 "metadata": {
  "kernelspec": {
   "display_name": "Python 3",
   "language": "python",
   "name": "python3"
  },
  "language_info": {
   "codemirror_mode": {
    "name": "ipython",
    "version": 3
   },
   "file_extension": ".py",
   "mimetype": "text/x-python",
   "name": "python",
   "nbconvert_exporter": "python",
   "pygments_lexer": "ipython3",
   "version": "3.8.3"
  }
 },
 "nbformat": 4,
 "nbformat_minor": 5
}
